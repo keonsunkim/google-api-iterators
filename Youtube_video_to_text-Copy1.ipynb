{
 "cells": [
  {
   "cell_type": "code",
   "execution_count": 1,
   "metadata": {},
   "outputs": [],
   "source": [
    "from pytube import YouTube"
   ]
  },
  {
   "cell_type": "code",
   "execution_count": 2,
   "metadata": {},
   "outputs": [],
   "source": [
    "import speech_recognition as sr"
   ]
  },
  {
   "cell_type": "code",
   "execution_count": 4,
   "metadata": {},
   "outputs": [],
   "source": [
    "import asyncio\n",
    "from pydub import AudioSegment"
   ]
  },
  {
   "cell_type": "code",
   "execution_count": 5,
   "metadata": {},
   "outputs": [],
   "source": [
    "import re"
   ]
  },
  {
   "cell_type": "code",
   "execution_count": 6,
   "metadata": {},
   "outputs": [],
   "source": [
    "import os"
   ]
  },
  {
   "cell_type": "code",
   "execution_count": null,
   "metadata": {},
   "outputs": [],
   "source": [
    "from crawl_modules import YoutubeVideoModule\n",
    "\n",
    "a = YoutubeVideoModule(\n",
    "                 video_id = 'x5QUw3zu7nk',\n",
    "                 csv_file_directory = 'youtube_transcript.csv', \n",
    "                 header = ['video_id', 'transcript', 'ln_code'],\n",
    ")\n",
    "\n",
    "a.save_transcripts(['ko'])"
   ]
  },
  {
   "cell_type": "code",
   "execution_count": null,
   "metadata": {},
   "outputs": [],
   "source": []
  },
  {
   "cell_type": "code",
   "execution_count": 7,
   "metadata": {},
   "outputs": [],
   "source": [
    "video_ids = ['AidknPJdu3I']"
   ]
  },
  {
   "cell_type": "code",
   "execution_count": 10,
   "metadata": {},
   "outputs": [
    {
     "ename": "NameError",
     "evalue": "name 'video_ids' is not defined",
     "output_type": "error",
     "traceback": [
      "\u001b[1;31m---------------------------------------------------------------------------\u001b[0m",
      "\u001b[1;31mNameError\u001b[0m                                 Traceback (most recent call last)",
      "\u001b[1;32m<ipython-input-10-899fa192b36f>\u001b[0m in \u001b[0;36m<module>\u001b[1;34m\u001b[0m\n\u001b[1;32m----> 1\u001b[1;33m \u001b[1;32mfor\u001b[0m \u001b[0mvideo_id\u001b[0m \u001b[1;32min\u001b[0m \u001b[0mvideo_ids\u001b[0m\u001b[1;33m:\u001b[0m\u001b[1;33m\u001b[0m\u001b[1;33m\u001b[0m\u001b[0m\n\u001b[0m\u001b[0;32m      2\u001b[0m     \u001b[0mYouTubeTranscriptApi\u001b[0m\u001b[1;33m.\u001b[0m\u001b[0mget_transcript\u001b[0m\u001b[1;33m(\u001b[0m\u001b[0mvideo_id\u001b[0m\u001b[1;33m)\u001b[0m\u001b[1;33m.\u001b[0m\u001b[0morder_by\u001b[0m\u001b[1;33m(\u001b[0m\u001b[1;34m'resoulution'\u001b[0m\u001b[1;33m)\u001b[0m\u001b[1;33m\u001b[0m\u001b[1;33m\u001b[0m\u001b[0m\n",
      "\u001b[1;31mNameError\u001b[0m: name 'video_ids' is not defined"
     ]
    }
   ],
   "source": [
    "for video_id in video_ids:\n",
    "    YouTubeTranscriptApi.get_transcript(video_id)"
   ]
  },
  {
   "cell_type": "code",
   "execution_count": null,
   "metadata": {},
   "outputs": [],
   "source": []
  },
  {
   "cell_type": "code",
   "execution_count": null,
   "metadata": {},
   "outputs": [],
   "source": []
  },
  {
   "cell_type": "code",
   "execution_count": 11,
   "metadata": {},
   "outputs": [
    {
     "name": "stdout",
     "output_type": "stream",
     "text": [
      "No\n"
     ]
    }
   ],
   "source": []
  },
  {
   "cell_type": "code",
   "execution_count": 7,
   "metadata": {},
   "outputs": [],
   "source": [
    "csv_file_directory = ''\n",
    "youtube_root_url = 'https://www.youtube.com/watch?v='"
   ]
  },
  {
   "cell_type": "code",
   "execution_count": null,
   "metadata": {},
   "outputs": [],
   "source": []
  },
  {
   "cell_type": "code",
   "execution_count": 6,
   "metadata": {},
   "outputs": [],
   "source": [
    "yt = YouTube(youtube_root_url + 'x5QUw3zu7nk')"
   ]
  },
  {
   "cell_type": "code",
   "execution_count": 13,
   "metadata": {},
   "outputs": [
    {
     "data": {
      "text/plain": [
       "[<Stream: itag=\"303\" mime_type=\"video/webm\" res=\"1080p\" fps=\"60fps\" vcodec=\"vp9\" progressive=\"False\" type=\"video\">, <Stream: itag=\"299\" mime_type=\"video/mp4\" res=\"1080p\" fps=\"60fps\" vcodec=\"avc1.64002a\" progressive=\"False\" type=\"video\">, <Stream: itag=\"302\" mime_type=\"video/webm\" res=\"720p\" fps=\"60fps\" vcodec=\"vp9\" progressive=\"False\" type=\"video\">, <Stream: itag=\"298\" mime_type=\"video/mp4\" res=\"720p\" fps=\"60fps\" vcodec=\"avc1.4d4020\" progressive=\"False\" type=\"video\">, <Stream: itag=\"247\" mime_type=\"video/webm\" res=\"720p\" fps=\"30fps\" vcodec=\"vp9\" progressive=\"False\" type=\"video\">, <Stream: itag=\"136\" mime_type=\"video/mp4\" res=\"720p\" fps=\"30fps\" vcodec=\"avc1.4d401f\" progressive=\"False\" type=\"video\">, <Stream: itag=\"244\" mime_type=\"video/webm\" res=\"480p\" fps=\"30fps\" vcodec=\"vp9\" progressive=\"False\" type=\"video\">, <Stream: itag=\"135\" mime_type=\"video/mp4\" res=\"480p\" fps=\"30fps\" vcodec=\"avc1.4d401e\" progressive=\"False\" type=\"video\">, <Stream: itag=\"243\" mime_type=\"video/webm\" res=\"360p\" fps=\"30fps\" vcodec=\"vp9\" progressive=\"False\" type=\"video\">, <Stream: itag=\"134\" mime_type=\"video/mp4\" res=\"360p\" fps=\"30fps\" vcodec=\"avc1.4d401e\" progressive=\"False\" type=\"video\">, <Stream: itag=\"242\" mime_type=\"video/webm\" res=\"240p\" fps=\"30fps\" vcodec=\"vp9\" progressive=\"False\" type=\"video\">, <Stream: itag=\"133\" mime_type=\"video/mp4\" res=\"240p\" fps=\"30fps\" vcodec=\"avc1.4d4015\" progressive=\"False\" type=\"video\">, <Stream: itag=\"278\" mime_type=\"video/webm\" res=\"144p\" fps=\"30fps\" vcodec=\"vp9\" progressive=\"False\" type=\"video\">, <Stream: itag=\"160\" mime_type=\"video/mp4\" res=\"144p\" fps=\"30fps\" vcodec=\"avc1.4d400c\" progressive=\"False\" type=\"video\">]"
      ]
     },
     "execution_count": 13,
     "metadata": {},
     "output_type": "execute_result"
    }
   ],
   "source": [
    "yt.streams.filter(adaptive = True).filter(only_video = True).order_by('resolution').desc()"
   ]
  },
  {
   "cell_type": "code",
   "execution_count": 241,
   "metadata": {},
   "outputs": [
    {
     "data": {
      "text/plain": [
       "'C:\\\\Users\\\\Youngway Family\\\\dev\\\\CrawlModules\\\\src\\\\data\\\\x5QUw3zu7nk포근포근🧶 지금부터 한겨울까지 색감 예쁜 따뜻한 존예 니트 추천💛.webm'"
      ]
     },
     "execution_count": 241,
     "metadata": {},
     "output_type": "execute_result"
    }
   ],
   "source": [
    "yt.streams.filter(adaptive = True).filter(only_audio = True).order_by(\"abr\").desc().first().download(output_path = 'data\\\\', filename_prefix='x5QUw3zu7nk')"
   ]
  },
  {
   "cell_type": "code",
   "execution_count": 21,
   "metadata": {},
   "outputs": [],
   "source": [
    "y = YouTube(youtube_root_url + 'x5QUw3zu7nk')"
   ]
  },
  {
   "cell_type": "code",
   "execution_count": 9,
   "metadata": {},
   "outputs": [
    {
     "data": {
      "text/plain": [
       "{'en-US': <Caption lang=\"English (United States)\" code=\"en-US\">, 'a.ko': <Caption lang=\"Korean (auto-generated)\" code=\"a.ko\">}"
      ]
     },
     "execution_count": 9,
     "metadata": {},
     "output_type": "execute_result"
    }
   ],
   "source": [
    "y.captions"
   ]
  },
  {
   "cell_type": "code",
   "execution_count": 18,
   "metadata": {},
   "outputs": [
    {
     "data": {
      "text/plain": [
       "'x5QUw3zu7nk'"
      ]
     },
     "execution_count": 18,
     "metadata": {},
     "output_type": "execute_result"
    }
   ],
   "source": [
    "y.video_id"
   ]
  },
  {
   "cell_type": "code",
   "execution_count": 10,
   "metadata": {},
   "outputs": [],
   "source": [
    "xml_catch_re = re.compile('<.*?>')"
   ]
  },
  {
   "cell_type": "code",
   "execution_count": 13,
   "metadata": {},
   "outputs": [],
   "source": [
    "def parse_xml_captions(string):\n",
    "    \"\"\"\n",
    "    Takes all strings inside '<>'\n",
    "    This allows separating only subtitles from\n",
    "    xml based captions\n",
    "    \"\"\"\n",
    "    global xml_catch_re\n",
    "    return xml_catch_re.sub(r'', string)"
   ]
  },
  {
   "cell_type": "code",
   "execution_count": 14,
   "metadata": {},
   "outputs": [
    {
     "data": {
      "text/plain": [
       "'으 너무 proper 으 우 to poor없어요 예 4[음악]안녕하세요 1 별입니다 바람 불기 시작하면서 니트 드라 주식 보이니까제가 하나 하나 하나씩 쟁여 놓은 온값들은 에이타 g ne 색감이 너무 예뻐서 찍어서 열렸던 이 영상올라오나요소개해 주세요 그래서 어 어 찍어야 할 것 같으냐그래서 이런 설 컷 을 부터 니트 가디건 그리고 요새 완전 하 탄게 의니트베스트 잖아요이것들 보여드리도록 할게요 코첫번째는 짠 이거는 그러 부 라고 하는 브랜드 제품인데 제가 w 컨셉에서이렇게 쭉 보다가 발견한 프렌드 였거든요근데 진짜 취향 저격 이 브랜드 컨셉 자체가 할머니 어 짱의 있을 것같은 그런 옷이 좀 컨셉 이에요근데 그런 레트로 온도 뭔가 좀 찡 하거나 이런 화사한 색과 화려한 색감이런게 아니라 딱 이렇게 무채색이 나 조금 빈티지한 색감 있잖아 색이바른 것 같은 그런 페이 리드한 색깔 뭔가 영국이나 뉴질랜드 이런 나라에빈티지샵 있을 것 같은 그런 분위기에 옷들이 되게 많았어요 그래서 제가이거 말고도 진짜 사고싶은게 너무 많았는데 침을 어떤게 솔더 구제 좀되어주고가격은 내가 10만원 초중반 정도로 제가 기억하는 데 전체적으로 가격대가조금 있었어요 근데 퀄리티는 저는 괜찮 없기 때문에 그리고 디자인 자체가굉장히 클래식하고 빈티지한 이런 느낌이라서 충분히 내년 내후년 이렇게도다 입을수 있을것 같은질리지 않을 것 저는 그렇게 춥지 않은 날에 이해를 입었었는데그냥 체크 무늬 반바지 에 다같이 며칠을 해 줬거든요 근데 날씨가 더추워지면 요 안에 목폴라 같은거 올라오게 입어 가지고 해 줘 로 괜찮고겉에 코트나 패딩 이나 입어줘도 괜찮을 것 같고저처럼 브라운 바지에 같이 매치해서 로퍼 에 다가가고 코트 에다가목도리로 포인트를 줘도 괜찮을 것 같구요그리고 너무 맘에 들어요 다음 제품 안 이가 제가 이걸 컬러별로 정의를해 놔서 그냥 요대로 컬러 대로 보여드릴게요 얘는 이런 스카이 블루컬러의 가디건 입니다이건 자라에서 구매를 했는데요 진짜 생각보다 더 마음에 들어요아 얘가 이렇게 단독으로 있으며 는 안개를 볼 수도 있는데 굉장히 5비세요 엉덩이도 다 덮는 기장 이거든요 입으면 어깨가 완전 요기 여기에내려가 있는 대신에 톰 앤 아 여기 이렇게 잡아주기 때문에뭐 축 늘어지거나 손이 불편하거나 하진 않은데 안 들이고 있는 이유는 깨손이무진장 내려와 있어요 지금 이렇게 먹거리가 여기 있는데어깨 사세요 여기 있단 말이에요 개인적으로 매장가서 한번 입어 보시는걸추천해 드려요 왜냐하면 더 입어보고 구매했는데 도 입을 때마다 오브생각보다 김에 이 생각에 계속 들어가지고음 아무튼 얘도 제가 최근에는 그 체크무늬 좀 김빠진 를 입어 거 든 요긴바지 에다가 목포시 넣어주고 안에 프린팅 되는 티셔츠 입어주고그렇게 와 매치해 줬는데 이제 날씨가 점점 추워지니까 여기에다가 목도리매주 거 뭐 코트 입어 주거나 그렇게 해주면 은 이 인어가 굉장히 화사에서 겉에 좀 어두운 코트를 입어도 적절하게 포인트가 되면서 예쁜 제품이될 것 같습니다4 매우 진짜 엄청 예뻐 열거다음은 이가 바로 또 제가 너무 사랑하는 아가야이 색감 매치와 진짜 보석 뭐 4 인용 곳인가따 1호 이번엔 인형 되는건가 1 18쪽 더러운 것에서 약간 주책이었는데 회 정도로 너무 예뻤어요자 이것을 방해 나가 이렇게 걸어 두고 있는데 또 흐뭇하다 니까요밖에만 나가도 그냥 보 있음은 좀 배부르고더 예뻐요 마가린핑거스 난 제가 예전부터 굉장히 좋아하는 브랜드 중에하나인데 어쩜 이렇게 귀여운 위험 하고 좀 소공녀 스타일 그런 느낌이많아요개인적으로 약간 미움이 향 좀 비슷하다고 느껴지는데 미움이 후에 좀 한국신진 디자이너 브랜드 버저 때 미우미우 보다 좀더 색감을 다양하게 쓰는것 같아서 저는 좋았고 이런 파스텔 톤을 많이 쓰는것 같아서개인적으론 매우 취향 사용 이거는 프리 사이즈 였는데 보자 모아서 아뭔가 딱 달라붙는 쇼파 고 그런 베스트 도나 생각했는데 막상 받아보니까그렇진 않더라구요뭔가 품도 좀 넉넉하고 이렇게 탁 조이는 그런 느낌이 줄 알았으나아니었습니다 그래서 요런거 는 제가 지금 있고 있는 여러 사랑 라는블라우스 하던지 아니면 뭐 위까지 올라오는 프릴 원피스 포인트를 줘도매우 예쁠 것 같은 그리고 다음 1짠 뒤 것도 제가 정말 보자마자 서반 했잖아요1 이효리 어떻게 안 사서 이렇게 벌이에 엄청나게 많이 박혀 있는데어떻게 안 사나요뒷모습도 없어요 너무 예뻐요 아 얘는 이제 칸코레 라고 하는 브랜드인데제가 이 2 후드티 인가 맨투맨 인가 이거는 좀 많이 봤거든요 ost브랜드 같은 그런 느낌 으로 되어있는 맨투맨을 몇 번 봤어요 근데 이제이런 제품이 나오는지 몰랐거든요아 이건 반 찌가 아닙니까아니 색감도 너무 완벽하고 핏도 너무 완벽하고 초큼 도 진짜 좋아요두께감도 진짜 좋고 이게 가격대도 전처 10만원 초반 때1만원에서 13만원 요사이 였어요 그 이상한 아니었는데어떻게 보면 가디건 치고 어 좀 비싼데 란 생각이 드실수도 있지만안녕 아닙니다 이게 만약에 갤러리에 걸려 있었다면얘야 안되게 어디 백화점에 걸려 있었다면 저는 개인적으로 하니 30만원이상 했을 거라고 생각해요그만큼 저는 퀄리티가 깨나 괜찮았고 스타일도 매우 그랬고 제가 최근에 를엄청 많이 있거나 썼는데 양안에 반팔티에 뭐 청바지 뭐 주거나 아님 그냥우 트레이닝 팬츠 이거 죽어직접 계속 있고 안했거든요 이것도 못 갈 수도 있어 여러 그 왜냐하면 이사이즈가 두개가 있는데 여자 사이즈랑 남자 사이즈가 있어요전 에게 남자 싸이 제약 좀 더 길고 좀 더 오버 p&amp;amp;g 헤어왜냐하면 6 사이즈가 이미 솔더 오셨는데 개인적으로 이건 오버 pc예쁘겠다 싶어서 그냥 요걸로 구매한 것도 있어요 근데 굉장히 만족합니다아주 좋아요 좀그리고 다음은 딴아니 약간 처치와 치우지 한결같은 것 같아요이게 보면은 그 일반 체크해보니 같은데 자세히 보면은 하운드체크 에요그래서 이게 너무 독특한 거에요 또 그냥 네트 벨트가 아니라 여기 보면은이렇게 뭐 뭐 뜯겨져 있는 이런 빈티지한 느낌도 굉장히 마음에 들고역 부분도 이렇게 또 포인트가 되어 있고 밑에도 너덜너덜 얻어요그래서 요새 이런 리트 베스트 트렌드가 아까 보여드린 것처럼 조금 더달라 보코 아예 더 달라 붙거나 약간 그런 느낌이었는데얘는 오히려 박씨 하니까 더 마음에 들더라구요 그래서 안에 원피스를 좀달라 붙는 제품으로 있고 얘를 그 위에 다 바쳐서 입어줘도 괜찮을 것같고아니면 제가 예전에 가십걸 블레어 스타일링에서 보여드렸던 파츠 서비스그런거 있잖아요그런거에 매치를 해도 좋을 것 같아요 이 제품은 제가 인스타그램으로쇼핑하다가 해오 연이 발견한 쇼핑 모링가 그런데 거기도 꽤 뭐 제스타일의 제품이 많아 가지고예 그 이후에 먹게 구매했어요 오이 블라우스도 여기 셔터 해요아오이 블라우스 왠지 제 1코 있어서 많이 물어 보실 것 같은데네 여기 제품입니다 그래서 여기에서 이거 말고도 더 여러개 구매를 했는데다음에 또 제가 카우리 나머 스탈링 부하들을 기회 있으면 보여드리겠습니다다음 제품 안 짠이거 얘 진짜 색감 붙혀 쬲요새 이렇게 니트 들이다 크록 으로 나오는데 뭐 제가 크로 글도좋아해주고아주 마음에 듭니다 크롭트 이렇게 딱딱 맞는 클럽이 아니라 2품 자체는적당히 여유가 있고 어깨선 도 굉장히 여유가 있는데 기장 망 크롭 이라서이게 도 좋아요 됐다얘는 제가 달아 에서 구매를 했고 택을 안뜨네요 50,000 고19,000원 뭐사이즈는 스몰입니다 요 예 같은 경우엔 아내 뭐 블라우스나 5 셔츠나 다이쁘게 찜한 이 컬러 너 이 컬러의 목폴라 를 갖지 매출을 해주면 혹은너무 예쁠것 같아요아 작년 플레이어가 생각나네요 프라 가서 또 잊고 싶은 그런 그런 느낌다음은 니트베스트 간에게 남았는데 니트베스트 만 내게 나왔는데 해야 는이 짠 얘는 스타일난다 제품이에요 스타일난다 에서 제가 이 두 개를 보고컬러를 뭘 골라야 될지 모르겠는 거예요 그래서 이거 이거하루 달다고 맺습니다 아 저희 엄마께서 고민될때 다하라고 하셨거든요다 갖습니다 근데 제가 바가 보고서는 아 이건 맞아 뵙게 따라 향이들더라구요이거는 조금 칙칙해 보이는 느낌 그쵸이게 저한테 좀 더 잘 맞는 것 같아요 예 보단그걸 알고는 있었는데 이게 제가 너무 좋아하는 색이라서 뭔가 겨울옷커트나 이런 것들은 이런 브라운 톤이 좀 많잖아요그러니까 아 이거 그렇게 커 야미 예쁘게 있는데 하는 것들이 뭐 떠오르는거예요목폴라 도 부터 브라운이나 아이보리 그런 기 열이 좀 더 많고 바지도카키 색깔 이런거라고 같이 매치하면 은 이쁠것 같아서얘는 이제 색감이 너무 독특하고 이 오묘한 컬러가 굉장히 예뻤는데 저한테너무 잘 받을 것 같아서 구매 쓴 어역시나 되게 저런 해놓은 것 같아요 그쵸 혹시 리이 색보다는 이게 더 잘받는 것 같은데 아 역시 역시 사람은 좀 가질수 없는걸 욕심 내 나와요요새는 날이 조금 춥더라도 반팔을 많이 니트베스트 이거 주더라구요 그래서목이 너무 이렇게 행하지 않은 딱 올라오는 그런 반팔 티셔츠를 입어 주고뭐 겉에 조금 더 아우터를 같이 매치해 주시고 텅 자캐 같은거 입어주고그 위에 커트나 패딩을 더 추가해서 입어줘도 괜찮을 것 같아요얘는 뭔가 금색 목걸이를 좀 레이어드 해 주고 싶은 느낌이고얘는 진주목걸이 이렇게 길게 늘여 뜨려 서 내야 돼 주고 싶은 그런 느낌치르고 다음은딴 얘는 제가 유튜브 완전 초 1000개 1부 4년도 5년도 이때소개했던 적이 있거든요그 이후에 제가 꾸준히 구매하고 저의 관심 갖는 빼는데 땀 더 소개를 해드린 적은 없는 것 같아요이번에 넘 예쁜 거예요안가 잘 수가 없었습니다 흙에 안할수가 없었어요얘는 사이즈가 1 왔어요 프리사이즈 인데 엄청 더 쎄요 굉장히 커요골반 더 덥고 엉덩이까지 남 복지원 골반은 이미 다 덮는그런 기자 아이의 전체적으로 다 하 박시하게 입어 주시거나 아니면 하이를스커트나 뭐 반바지나 이런걸 좀 짧게 입으시는게 좋을 것 같아요그래서 개인적으로 저는 이런 니트조끼 자체가 주는 그 특이 에 클럽 같은느낌이 좀 있어서 어떻게 입어도 그 특유의 감성에 느낌이 있기 때문에포인트 듣고 싶으신 분들께 추천해드립니다그리고 마지막 제품은 밤 5 짠얘는 컬러가 총 2개 있었는데 요기가 이제 그린 컬러 인거 랑 레드오렌지 옐로우 컬러 인기 있었어요둘다 진짜 예뻐 가지고 고민을 했으나 이걸로 되어왔습니다 왜냐하면 보통레드는 포인트가 되는 제품들이 좀 많은데 이렇게 그린 컬러는 포인트 되는제품을 보기 어렵잖아요 특히나 이런 네온 그린 형광 그린 이런거 얘도그냥 제품만 봤을 때는 뭔가 딱 달라붙고 엄청 쇼 타고 이럴 줄 알았는데막상 보면 생각보다 넉넉해요아 네 뭐 반팔티 여튼 아니 너는 뭐 긴 팔이 데모 충분히 덧대서 입을수 있을 만큼 품이 좀 넉넉하고 답답하지 않을 것 같고 분원을 요렇게이렇게 핑크 프로 포인트가 되어 있고 색감 매치도 굉장히 흔하지 않아요좀 멀리서 오면 뭐냐 그 외침이 치트 지껄인 카트 화면조정 하는거 그 한느낌 나지 않나요인간 화면 조정기 아 얘는 하얀 색깔 반 팔이나 아니면 사실 김 팔을까마 직각인 팔도 괜찮을것 같아요 또 녹 트 카 게 되게 느낌은 봤을때는좀 옛날 제품 같거든요약간 빈티지한 느낌이 하는데 레트로한 느낌 근데 색감이 되게 튕기해가지고 그의 좀 특이해요그럼 오늘은 이렇게 제가 가을 겨울을 맞이해서 여러가지 구매하고 모아놨던밑에 제품들을 보여드렸는데 재밌게 잘 감상하셨나요가리 짧아 게 조금 아쉽기는 한데 그래도 대부분 다 좀 2개 감이 있는제품들이 고 겨울까지 충분히 입을 수 있는 제품들이 니까내년 초까지 도 충분히 이룰 수 있지 않을까 생각합니다그래야 되요 그럼 오늘도 프로 놀러오셔서 너무너무 감사드리구요가기전에 좋아요 그렇게까지 누르는거 잊지 마시구요 그럼 우리 늦지 않게다음 영상에서 만나고 오늘 됐고 나라 보내세요 문 안으[음악]'"
      ]
     },
     "execution_count": 14,
     "metadata": {},
     "output_type": "execute_result"
    }
   ],
   "source": [
    "parse_xml_captions(str(y.captions['a.ko'].xml_captions))"
   ]
  },
  {
   "cell_type": "code",
   "execution_count": null,
   "metadata": {},
   "outputs": [],
   "source": []
  },
  {
   "cell_type": "code",
   "execution_count": 14,
   "metadata": {},
   "outputs": [],
   "source": [
    "ln = 'ko'"
   ]
  },
  {
   "cell_type": "code",
   "execution_count": 28,
   "metadata": {},
   "outputs": [],
   "source": [
    "hey = f'(?<=code=\").{{0,2}}{ln}'"
   ]
  },
  {
   "cell_type": "code",
   "execution_count": 26,
   "metadata": {},
   "outputs": [],
   "source": [
    "re_korean_code = re.compile(f'(?<=code=\").{{0,2}}{ln}')"
   ]
  },
  {
   "cell_type": "code",
   "execution_count": 29,
   "metadata": {},
   "outputs": [
    {
     "data": {
      "text/plain": [
       "'(?<=code=\").{0,2}ko'"
      ]
     },
     "execution_count": 29,
     "metadata": {},
     "output_type": "execute_result"
    }
   ],
   "source": [
    "hey"
   ]
  },
  {
   "cell_type": "code",
   "execution_count": 27,
   "metadata": {},
   "outputs": [
    {
     "data": {
      "text/plain": [
       "['a.ko']"
      ]
     },
     "execution_count": 27,
     "metadata": {},
     "output_type": "execute_result"
    }
   ],
   "source": [
    "re_korean_code.findall(str(y.captions))"
   ]
  },
  {
   "cell_type": "code",
   "execution_count": 20,
   "metadata": {},
   "outputs": [],
   "source": [
    "def download_python_video(video_id, video = False, audio = False, output_path = '', **kwargs):\n",
    "    yt = Youtube()\n",
    "    if audio:\n",
    "        # audio file\n",
    "        yt.streams.filter(adaptive = True).filter(only_audio = True).order_by(\"abr\").desc().first().download(output_path = f'{output_path}', filename_prefix=f'{video_ids[0]}')\n",
    "    elif video:\n",
    "        # video file\n",
    "        yt.streams.filter(adaptive = True).filter(only_video = True).filter(resolution=\"720p\").download(output_path = f'{output_path}', filename_prefix=f'{video_ids[0]}')"
   ]
  },
  {
   "cell_type": "code",
   "execution_count": 23,
   "metadata": {},
   "outputs": [],
   "source": [
    "a = y.streams.filter(adaptive = True).filter(only_audio = True).order_by(\"abr\").desc().first().download(filename_prefix='x5QUw3zu7nk')"
   ]
  },
  {
   "cell_type": "code",
   "execution_count": 24,
   "metadata": {},
   "outputs": [
    {
     "data": {
      "text/plain": [
       "'C:\\\\Users\\\\Youngway Family\\\\dev\\\\CrawlModules\\\\src\\\\x5QUw3zu7nk포근포근🧶 지금부터 한겨울까지 색감 예쁜 따뜻한 존예 니트 추천💛.webm'"
      ]
     },
     "execution_count": 24,
     "metadata": {},
     "output_type": "execute_result"
    }
   ],
   "source": [
    "a"
   ]
  },
  {
   "cell_type": "code",
   "execution_count": null,
   "metadata": {},
   "outputs": [],
   "source": [
    "def get_transcripts(video_id, **kwargs):\n",
    "    \n",
    "    try:\n",
    "        # if transcripts are availible in video, get them\n",
    "        yt = YouTube(youtube_root_url + video_id)\n",
    "        korean_caption = re_korean_code.findall(str(y.captions))\n",
    "        if korean_caption:\n",
    "            yt.captions(str(korean_caption[0]))\n",
    "            return \n",
    "        else:\n",
    "            raise Exception\n",
    "    except:\n",
    "        # if transcripts are unavailible, use speech recognition\n",
    "        download_python_video(video_id, audio = True, output_path = output_path)\n",
    "        \n",
    "        # Now downloaded, put it in speech recognition module\n",
    "        for file in os.listdir(output_path):\n",
    "            if video_id in file:\n",
    "                \n",
    "    "
   ]
  },
  {
   "cell_type": "code",
   "execution_count": 236,
   "metadata": {},
   "outputs": [
    {
     "name": "stdout",
     "output_type": "stream",
     "text": [
      "Uop\n"
     ]
    }
   ],
   "source": [
    "for file in os.listdir('data\\\\'):\n",
    "    if 'AidknPJdu3I' in file:\n",
    "        print(\"Uop\")"
   ]
  },
  {
   "cell_type": "code",
   "execution_count": 8,
   "metadata": {},
   "outputs": [],
   "source": [
    "test_file = AudioSegment.from_file(\"x5QUw3zu7nk.webm\", \"webm\")"
   ]
  },
  {
   "cell_type": "code",
   "execution_count": 15,
   "metadata": {},
   "outputs": [
    {
     "data": {
      "text/plain": [
       "<_io.BufferedRandom name='test_file_for_x5QU.flac'>"
      ]
     },
     "execution_count": 15,
     "metadata": {},
     "output_type": "execute_result"
    }
   ],
   "source": [
    "test_file.export(out_f=\"test_file_for_x5QU.flac\", format=\"flac\")"
   ]
  },
  {
   "cell_type": "code",
   "execution_count": 16,
   "metadata": {},
   "outputs": [],
   "source": [
    "test_audio = sr.AudioFile(\"test_file_for_x5QU.flac\")"
   ]
  },
  {
   "cell_type": "code",
   "execution_count": 17,
   "metadata": {},
   "outputs": [],
   "source": [
    "recognizer = sr.Recognizer()"
   ]
  },
  {
   "cell_type": "code",
   "execution_count": 18,
   "metadata": {},
   "outputs": [
    {
     "ename": "RequestError",
     "evalue": "recognition request failed: Bad Request",
     "output_type": "error",
     "traceback": [
      "\u001b[1;31m---------------------------------------------------------------------------\u001b[0m",
      "\u001b[1;31mHTTPError\u001b[0m                                 Traceback (most recent call last)",
      "\u001b[1;32mc:\\users\\youngway family\\dev\\crawlmodules\\crawlmodulesvenv\\lib\\site-packages\\speech_recognition\\__init__.py\u001b[0m in \u001b[0;36mrecognize_google\u001b[1;34m(self, audio_data, key, language, show_all)\u001b[0m\n\u001b[0;32m    839\u001b[0m         \u001b[1;32mtry\u001b[0m\u001b[1;33m:\u001b[0m\u001b[1;33m\u001b[0m\u001b[1;33m\u001b[0m\u001b[0m\n\u001b[1;32m--> 840\u001b[1;33m             \u001b[0mresponse\u001b[0m \u001b[1;33m=\u001b[0m \u001b[0murlopen\u001b[0m\u001b[1;33m(\u001b[0m\u001b[0mrequest\u001b[0m\u001b[1;33m,\u001b[0m \u001b[0mtimeout\u001b[0m\u001b[1;33m=\u001b[0m\u001b[0mself\u001b[0m\u001b[1;33m.\u001b[0m\u001b[0moperation_timeout\u001b[0m\u001b[1;33m)\u001b[0m\u001b[1;33m\u001b[0m\u001b[1;33m\u001b[0m\u001b[0m\n\u001b[0m\u001b[0;32m    841\u001b[0m         \u001b[1;32mexcept\u001b[0m \u001b[0mHTTPError\u001b[0m \u001b[1;32mas\u001b[0m \u001b[0me\u001b[0m\u001b[1;33m:\u001b[0m\u001b[1;33m\u001b[0m\u001b[1;33m\u001b[0m\u001b[0m\n",
      "\u001b[1;32m~\\AppData\\Local\\Programs\\Python\\Python38\\lib\\urllib\\request.py\u001b[0m in \u001b[0;36murlopen\u001b[1;34m(url, data, timeout, cafile, capath, cadefault, context)\u001b[0m\n\u001b[0;32m    221\u001b[0m         \u001b[0mopener\u001b[0m \u001b[1;33m=\u001b[0m \u001b[0m_opener\u001b[0m\u001b[1;33m\u001b[0m\u001b[1;33m\u001b[0m\u001b[0m\n\u001b[1;32m--> 222\u001b[1;33m     \u001b[1;32mreturn\u001b[0m \u001b[0mopener\u001b[0m\u001b[1;33m.\u001b[0m\u001b[0mopen\u001b[0m\u001b[1;33m(\u001b[0m\u001b[0murl\u001b[0m\u001b[1;33m,\u001b[0m \u001b[0mdata\u001b[0m\u001b[1;33m,\u001b[0m \u001b[0mtimeout\u001b[0m\u001b[1;33m)\u001b[0m\u001b[1;33m\u001b[0m\u001b[1;33m\u001b[0m\u001b[0m\n\u001b[0m\u001b[0;32m    223\u001b[0m \u001b[1;33m\u001b[0m\u001b[0m\n",
      "\u001b[1;32m~\\AppData\\Local\\Programs\\Python\\Python38\\lib\\urllib\\request.py\u001b[0m in \u001b[0;36mopen\u001b[1;34m(self, fullurl, data, timeout)\u001b[0m\n\u001b[0;32m    530\u001b[0m             \u001b[0mmeth\u001b[0m \u001b[1;33m=\u001b[0m \u001b[0mgetattr\u001b[0m\u001b[1;33m(\u001b[0m\u001b[0mprocessor\u001b[0m\u001b[1;33m,\u001b[0m \u001b[0mmeth_name\u001b[0m\u001b[1;33m)\u001b[0m\u001b[1;33m\u001b[0m\u001b[1;33m\u001b[0m\u001b[0m\n\u001b[1;32m--> 531\u001b[1;33m             \u001b[0mresponse\u001b[0m \u001b[1;33m=\u001b[0m \u001b[0mmeth\u001b[0m\u001b[1;33m(\u001b[0m\u001b[0mreq\u001b[0m\u001b[1;33m,\u001b[0m \u001b[0mresponse\u001b[0m\u001b[1;33m)\u001b[0m\u001b[1;33m\u001b[0m\u001b[1;33m\u001b[0m\u001b[0m\n\u001b[0m\u001b[0;32m    532\u001b[0m \u001b[1;33m\u001b[0m\u001b[0m\n",
      "\u001b[1;32m~\\AppData\\Local\\Programs\\Python\\Python38\\lib\\urllib\\request.py\u001b[0m in \u001b[0;36mhttp_response\u001b[1;34m(self, request, response)\u001b[0m\n\u001b[0;32m    639\u001b[0m         \u001b[1;32mif\u001b[0m \u001b[1;32mnot\u001b[0m \u001b[1;33m(\u001b[0m\u001b[1;36m200\u001b[0m \u001b[1;33m<=\u001b[0m \u001b[0mcode\u001b[0m \u001b[1;33m<\u001b[0m \u001b[1;36m300\u001b[0m\u001b[1;33m)\u001b[0m\u001b[1;33m:\u001b[0m\u001b[1;33m\u001b[0m\u001b[1;33m\u001b[0m\u001b[0m\n\u001b[1;32m--> 640\u001b[1;33m             response = self.parent.error(\n\u001b[0m\u001b[0;32m    641\u001b[0m                 'http', request, response, code, msg, hdrs)\n",
      "\u001b[1;32m~\\AppData\\Local\\Programs\\Python\\Python38\\lib\\urllib\\request.py\u001b[0m in \u001b[0;36merror\u001b[1;34m(self, proto, *args)\u001b[0m\n\u001b[0;32m    568\u001b[0m             \u001b[0margs\u001b[0m \u001b[1;33m=\u001b[0m \u001b[1;33m(\u001b[0m\u001b[0mdict\u001b[0m\u001b[1;33m,\u001b[0m \u001b[1;34m'default'\u001b[0m\u001b[1;33m,\u001b[0m \u001b[1;34m'http_error_default'\u001b[0m\u001b[1;33m)\u001b[0m \u001b[1;33m+\u001b[0m \u001b[0morig_args\u001b[0m\u001b[1;33m\u001b[0m\u001b[1;33m\u001b[0m\u001b[0m\n\u001b[1;32m--> 569\u001b[1;33m             \u001b[1;32mreturn\u001b[0m \u001b[0mself\u001b[0m\u001b[1;33m.\u001b[0m\u001b[0m_call_chain\u001b[0m\u001b[1;33m(\u001b[0m\u001b[1;33m*\u001b[0m\u001b[0margs\u001b[0m\u001b[1;33m)\u001b[0m\u001b[1;33m\u001b[0m\u001b[1;33m\u001b[0m\u001b[0m\n\u001b[0m\u001b[0;32m    570\u001b[0m \u001b[1;33m\u001b[0m\u001b[0m\n",
      "\u001b[1;32m~\\AppData\\Local\\Programs\\Python\\Python38\\lib\\urllib\\request.py\u001b[0m in \u001b[0;36m_call_chain\u001b[1;34m(self, chain, kind, meth_name, *args)\u001b[0m\n\u001b[0;32m    501\u001b[0m             \u001b[0mfunc\u001b[0m \u001b[1;33m=\u001b[0m \u001b[0mgetattr\u001b[0m\u001b[1;33m(\u001b[0m\u001b[0mhandler\u001b[0m\u001b[1;33m,\u001b[0m \u001b[0mmeth_name\u001b[0m\u001b[1;33m)\u001b[0m\u001b[1;33m\u001b[0m\u001b[1;33m\u001b[0m\u001b[0m\n\u001b[1;32m--> 502\u001b[1;33m             \u001b[0mresult\u001b[0m \u001b[1;33m=\u001b[0m \u001b[0mfunc\u001b[0m\u001b[1;33m(\u001b[0m\u001b[1;33m*\u001b[0m\u001b[0margs\u001b[0m\u001b[1;33m)\u001b[0m\u001b[1;33m\u001b[0m\u001b[1;33m\u001b[0m\u001b[0m\n\u001b[0m\u001b[0;32m    503\u001b[0m             \u001b[1;32mif\u001b[0m \u001b[0mresult\u001b[0m \u001b[1;32mis\u001b[0m \u001b[1;32mnot\u001b[0m \u001b[1;32mNone\u001b[0m\u001b[1;33m:\u001b[0m\u001b[1;33m\u001b[0m\u001b[1;33m\u001b[0m\u001b[0m\n",
      "\u001b[1;32m~\\AppData\\Local\\Programs\\Python\\Python38\\lib\\urllib\\request.py\u001b[0m in \u001b[0;36mhttp_error_default\u001b[1;34m(self, req, fp, code, msg, hdrs)\u001b[0m\n\u001b[0;32m    648\u001b[0m     \u001b[1;32mdef\u001b[0m \u001b[0mhttp_error_default\u001b[0m\u001b[1;33m(\u001b[0m\u001b[0mself\u001b[0m\u001b[1;33m,\u001b[0m \u001b[0mreq\u001b[0m\u001b[1;33m,\u001b[0m \u001b[0mfp\u001b[0m\u001b[1;33m,\u001b[0m \u001b[0mcode\u001b[0m\u001b[1;33m,\u001b[0m \u001b[0mmsg\u001b[0m\u001b[1;33m,\u001b[0m \u001b[0mhdrs\u001b[0m\u001b[1;33m)\u001b[0m\u001b[1;33m:\u001b[0m\u001b[1;33m\u001b[0m\u001b[1;33m\u001b[0m\u001b[0m\n\u001b[1;32m--> 649\u001b[1;33m         \u001b[1;32mraise\u001b[0m \u001b[0mHTTPError\u001b[0m\u001b[1;33m(\u001b[0m\u001b[0mreq\u001b[0m\u001b[1;33m.\u001b[0m\u001b[0mfull_url\u001b[0m\u001b[1;33m,\u001b[0m \u001b[0mcode\u001b[0m\u001b[1;33m,\u001b[0m \u001b[0mmsg\u001b[0m\u001b[1;33m,\u001b[0m \u001b[0mhdrs\u001b[0m\u001b[1;33m,\u001b[0m \u001b[0mfp\u001b[0m\u001b[1;33m)\u001b[0m\u001b[1;33m\u001b[0m\u001b[1;33m\u001b[0m\u001b[0m\n\u001b[0m\u001b[0;32m    650\u001b[0m \u001b[1;33m\u001b[0m\u001b[0m\n",
      "\u001b[1;31mHTTPError\u001b[0m: HTTP Error 400: Bad Request",
      "\nDuring handling of the above exception, another exception occurred:\n",
      "\u001b[1;31mRequestError\u001b[0m                              Traceback (most recent call last)",
      "\u001b[1;32m<ipython-input-18-4db4da50e012>\u001b[0m in \u001b[0;36m<module>\u001b[1;34m\u001b[0m\n\u001b[0;32m      2\u001b[0m     \u001b[0mhanbyul\u001b[0m \u001b[1;33m=\u001b[0m \u001b[0mrecognizer\u001b[0m\u001b[1;33m.\u001b[0m\u001b[0mrecord\u001b[0m\u001b[1;33m(\u001b[0m\u001b[0msource\u001b[0m\u001b[1;33m)\u001b[0m\u001b[1;33m\u001b[0m\u001b[1;33m\u001b[0m\u001b[0m\n\u001b[0;32m      3\u001b[0m \u001b[1;33m\u001b[0m\u001b[0m\n\u001b[1;32m----> 4\u001b[1;33m \u001b[0mhanpyul_transcript\u001b[0m \u001b[1;33m=\u001b[0m \u001b[0mrecognizer\u001b[0m\u001b[1;33m.\u001b[0m\u001b[0mrecognize_google\u001b[0m\u001b[1;33m(\u001b[0m\u001b[0maudio_data\u001b[0m\u001b[1;33m=\u001b[0m\u001b[0mhanbyul\u001b[0m\u001b[1;33m,\u001b[0m \u001b[0mlanguage\u001b[0m\u001b[1;33m=\u001b[0m\u001b[1;34m\"ko-KR\"\u001b[0m\u001b[1;33m)\u001b[0m\u001b[1;33m\u001b[0m\u001b[1;33m\u001b[0m\u001b[0m\n\u001b[0m",
      "\u001b[1;32mc:\\users\\youngway family\\dev\\crawlmodules\\crawlmodulesvenv\\lib\\site-packages\\speech_recognition\\__init__.py\u001b[0m in \u001b[0;36mrecognize_google\u001b[1;34m(self, audio_data, key, language, show_all)\u001b[0m\n\u001b[0;32m    840\u001b[0m             \u001b[0mresponse\u001b[0m \u001b[1;33m=\u001b[0m \u001b[0murlopen\u001b[0m\u001b[1;33m(\u001b[0m\u001b[0mrequest\u001b[0m\u001b[1;33m,\u001b[0m \u001b[0mtimeout\u001b[0m\u001b[1;33m=\u001b[0m\u001b[0mself\u001b[0m\u001b[1;33m.\u001b[0m\u001b[0moperation_timeout\u001b[0m\u001b[1;33m)\u001b[0m\u001b[1;33m\u001b[0m\u001b[1;33m\u001b[0m\u001b[0m\n\u001b[0;32m    841\u001b[0m         \u001b[1;32mexcept\u001b[0m \u001b[0mHTTPError\u001b[0m \u001b[1;32mas\u001b[0m \u001b[0me\u001b[0m\u001b[1;33m:\u001b[0m\u001b[1;33m\u001b[0m\u001b[1;33m\u001b[0m\u001b[0m\n\u001b[1;32m--> 842\u001b[1;33m             \u001b[1;32mraise\u001b[0m \u001b[0mRequestError\u001b[0m\u001b[1;33m(\u001b[0m\u001b[1;34m\"recognition request failed: {}\"\u001b[0m\u001b[1;33m.\u001b[0m\u001b[0mformat\u001b[0m\u001b[1;33m(\u001b[0m\u001b[0me\u001b[0m\u001b[1;33m.\u001b[0m\u001b[0mreason\u001b[0m\u001b[1;33m)\u001b[0m\u001b[1;33m)\u001b[0m\u001b[1;33m\u001b[0m\u001b[1;33m\u001b[0m\u001b[0m\n\u001b[0m\u001b[0;32m    843\u001b[0m         \u001b[1;32mexcept\u001b[0m \u001b[0mURLError\u001b[0m \u001b[1;32mas\u001b[0m \u001b[0me\u001b[0m\u001b[1;33m:\u001b[0m\u001b[1;33m\u001b[0m\u001b[1;33m\u001b[0m\u001b[0m\n\u001b[0;32m    844\u001b[0m             \u001b[1;32mraise\u001b[0m \u001b[0mRequestError\u001b[0m\u001b[1;33m(\u001b[0m\u001b[1;34m\"recognition connection failed: {}\"\u001b[0m\u001b[1;33m.\u001b[0m\u001b[0mformat\u001b[0m\u001b[1;33m(\u001b[0m\u001b[0me\u001b[0m\u001b[1;33m.\u001b[0m\u001b[0mreason\u001b[0m\u001b[1;33m)\u001b[0m\u001b[1;33m)\u001b[0m\u001b[1;33m\u001b[0m\u001b[1;33m\u001b[0m\u001b[0m\n",
      "\u001b[1;31mRequestError\u001b[0m: recognition request failed: Bad Request"
     ]
    }
   ],
   "source": [
    "with test_audio as source:\n",
    "    hanbyul = recognizer.record(source)\n",
    "\n",
    "hanpyul_transcript = recognizer.recognize_google(audio_data=hanbyul, language=\"ko-KR\")"
   ]
  },
  {
   "cell_type": "code",
   "execution_count": 4,
   "metadata": {},
   "outputs": [],
   "source": [
    "from crawl_modules import YoutubeVideoModule"
   ]
  },
  {
   "cell_type": "code",
   "execution_count": 5,
   "metadata": {},
   "outputs": [],
   "source": [
    "from crawl_modules import YoutubeVideoModule\n",
    "\n",
    "a = YoutubeVideoModule(\n",
    "                 video_id = 'x5QUw3zu7nk',\n",
    "                 csv_file_directory = 'youtube_transcript.csv', \n",
    "                 header = ['video_id', 'transcript', 'ln_code'],\n",
    ")\n",
    "\n",
    "a.save_transcripts(['ko'])"
   ]
  },
  {
   "cell_type": "code",
   "execution_count": 6,
   "metadata": {},
   "outputs": [],
   "source": [
    "a.save_transcripts(['ko'])"
   ]
  },
  {
   "cell_type": "code",
   "execution_count": 7,
   "metadata": {},
   "outputs": [],
   "source": [
    "a.close_file()"
   ]
  },
  {
   "cell_type": "code",
   "execution_count": null,
   "metadata": {},
   "outputs": [],
   "source": []
  }
 ],
 "metadata": {
  "kernelspec": {
   "display_name": "Python 3",
   "language": "python",
   "name": "python3"
  },
  "language_info": {
   "codemirror_mode": {
    "name": "ipython",
    "version": 3
   },
   "file_extension": ".py",
   "mimetype": "text/x-python",
   "name": "python",
   "nbconvert_exporter": "python",
   "pygments_lexer": "ipython3",
   "version": "3.8.6"
  }
 },
 "nbformat": 4,
 "nbformat_minor": 4
}
