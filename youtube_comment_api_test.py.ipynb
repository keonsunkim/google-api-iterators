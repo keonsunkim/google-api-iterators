{
 "cells": [
  {
   "cell_type": "code",
   "execution_count": 4,
   "metadata": {},
   "outputs": [],
   "source": [
    "from crawl_modules import YoutubeAPICommentRetriever\n",
    "\n",
    "API = ''\n",
    "\n",
    "\n",
    "\n"
   ]
  },
  {
   "cell_type": "code",
   "execution_count": 5,
   "metadata": {},
   "outputs": [],
   "source": [
    "youtube = YoutubeAPICommentRetriever(\n",
    "                                     APIKey = API, \n",
    "                                     csv_file_directory = 'test_youtube.csv', \n",
    "                                     header = ['authorDisplayName', 'textDisplay', 'videoId', 'id', 'publishedAt', 'updatedAt'],\n",
    "                                     \n",
    ")\n"
   ]
  },
  {
   "cell_type": "code",
   "execution_count": 6,
   "metadata": {},
   "outputs": [],
   "source": [
    "from youtube_api_iterator import YoutubeAPICommentIterator"
   ]
  },
  {
   "cell_type": "code",
   "execution_count": 7,
   "metadata": {},
   "outputs": [],
   "source": [
    "youtube_iterator = YoutubeAPICommentIterator(youtube, \n",
    "                                           set_sleep_time = {'min':1000, 'max':2000},\n",
    "                                           params = {\n",
    "                                            'part' : ['id', 'snippet', 'replies'],\n",
    "                                            'videoId' : ['gIvxA9Y5iIY'],\n",
    "                                            'maxResults' : [20],\n",
    "                                            'textFormat' : ['plainText']\n",
    "                                            }\n",
    "                                            )"
   ]
  },
  {
   "cell_type": "code",
   "execution_count": 8,
   "metadata": {},
   "outputs": [
    {
     "name": "stdout",
     "output_type": "stream",
     "text": [
      "--------1--------\n",
      "--------2--------\n",
      "--------3--------\n",
      "--------4--------\n",
      "--------5--------\n",
      "--------6--------\n",
      "--------7--------\n",
      "--------8--------\n",
      "--------9--------\n",
      "--------10--------\n",
      "--------11--------\n",
      "--------12--------\n",
      "--------13--------\n"
     ]
    }
   ],
   "source": [
    "num = 1\n",
    "\n",
    "for result in youtube_iterator:\n",
    "    print('-' * 8 + str(num) + '-' * 8)\n",
    "    num += 1"
   ]
  },
  {
   "cell_type": "code",
   "execution_count": null,
   "metadata": {},
   "outputs": [],
   "source": []
  },
  {
   "cell_type": "code",
   "execution_count": 2,
   "metadata": {},
   "outputs": [],
   "source": []
  },
  {
   "cell_type": "code",
   "execution_count": 3,
   "metadata": {},
   "outputs": [],
   "source": []
  }
 ],
 "metadata": {
  "kernelspec": {
   "display_name": "Python 3",
   "language": "python",
   "name": "python3"
  },
  "language_info": {
   "codemirror_mode": {
    "name": "ipython",
    "version": 3
   },
   "file_extension": ".py",
   "mimetype": "text/x-python",
   "name": "python",
   "nbconvert_exporter": "python",
   "pygments_lexer": "ipython3",
   "version": "3.8.6"
  }
 },
 "nbformat": 4,
 "nbformat_minor": 4
}
